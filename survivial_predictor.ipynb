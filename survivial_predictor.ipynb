{
 "cells": [
  {
   "cell_type": "code",
   "execution_count": 3,
   "metadata": {},
   "outputs": [],
   "source": [
    "from sklearn.ensemble import RandomForestClassifier\n",
    "from sklearn.preprocessing import OneHotEncoder, StandardScaler\n",
    "from sklearn.compose import ColumnTransformer\n",
    "from sklearn.pipeline import Pipeline\n",
    "import pandas as pd\n",
    "import os"
   ]
  },
  {
   "cell_type": "code",
   "execution_count": 4,
   "metadata": {},
   "outputs": [],
   "source": [
    "# Set up testing dataframes\n",
    "\n",
    "\"\"\"                                    Data Dictionary\n",
    "Variable\t    Definition\t                                        Key\n",
    "survival\t    Survival\t                                        0 = No, 1 = Yes\n",
    "pclass\t        Ticket class\t                                    1 = 1st, 2 = 2nd, 3 = 3rd\n",
    "sex\t            Sex\t\n",
    "Age\t            Age in years\t\n",
    "sibsp\t        # of siblings / spouses aboard the Titanic\t\n",
    "parch\t        # of parents / children aboard the Titanic\t\n",
    "ticket\t        Ticket number\t\n",
    "fare\t        Passenger fare\t\n",
    "cabin\t        Cabin number\t\n",
    "embarked\t    Port of Embarkation                                 C = Cherbourg, Q = Queenstown, S = Southampton\n",
    "\"\"\"\n",
    "\n",
    "train = pd.read_csv('train.csv')\n",
    "X = pd.read_csv('train.csv')\n",
    "y = X['Survived']"
   ]
  },
  {
   "cell_type": "code",
   "execution_count": null,
   "metadata": {},
   "outputs": [],
   "source": []
  }
 ],
 "metadata": {
  "kernelspec": {
   "display_name": "Python 3",
   "language": "python",
   "name": "python3"
  },
  "language_info": {
   "codemirror_mode": {
    "name": "ipython",
    "version": 3
   },
   "file_extension": ".py",
   "mimetype": "text/x-python",
   "name": "python",
   "nbconvert_exporter": "python",
   "pygments_lexer": "ipython3",
   "version": "3.11.5"
  }
 },
 "nbformat": 4,
 "nbformat_minor": 2
}
