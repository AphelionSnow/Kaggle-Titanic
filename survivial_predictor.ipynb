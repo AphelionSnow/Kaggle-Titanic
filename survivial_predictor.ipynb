{
 "cells": [
  {
   "cell_type": "code",
   "execution_count": 1,
   "metadata": {},
   "outputs": [],
   "source": [
    "from sklearn.ensemble import RandomForestClassifier\n",
    "from sklearn.linear_model import LogisticRegression\n",
    "from sklearn.preprocessing import OneHotEncoder, StandardScaler\n",
    "from sklearn.compose import ColumnTransformer\n",
    "from sklearn.pipeline import Pipeline\n",
    "from sklearn.model_selection import train_test_split, cross_val_score\n",
    "from sklearn.metrics import r2_score, accuracy_score, roc_curve, auc\n",
    "import pandas as pd\n",
    "import os\n",
    "import numpy as np\n",
    "from matplotlib import pyplot as plt\n",
    "import random\n",
    "from sklearn.model_selection import GridSearchCV, RandomizedSearchCV\n",
    "from scipy.stats import randint\n",
    "from input_sampling import InputSampler"
   ]
  },
  {
   "cell_type": "code",
   "execution_count": 2,
   "metadata": {},
   "outputs": [],
   "source": [
    "# Set up testing dataframes\n",
    "\n",
    "\"\"\"                                    Data Dictionary\n",
    "Variable\t    Definition\t                                        Key\n",
    "Survived\t    Survival\t                                        0 = No, 1 = Yes\n",
    "Pclass\t        Ticket class\t                                    1 = 1st, 2 = 2nd, 3 = 3rd\n",
    "Name            Passenger Name\n",
    "Sex\t            Sex\n",
    "Age\t            Age in years\t\n",
    "SibSp\t        # of siblings / spouses aboard the Titanic\t\n",
    "Parch\t        # of parents / children aboard the Titanic\t\n",
    "Ticket\t        Ticket number\t\n",
    "Fare\t        Passenger fare\t\n",
    "Cabin\t        Cabin number\t\n",
    "Embarked\t    Port of Embarkation                                 C = Cherbourg, Q = Queenstown, S = Southampton\n",
    "\"\"\"\n",
    "\n",
    "train_set = pd.read_csv('train.csv')\n",
    "train, test = train_test_split(train_set, random_state=42, test_size=0.25)\n",
    "\n",
    "cat = ['Sex', 'Embarked']\n",
    "num = ['Pclass', 'Age', 'Parch', 'Fare']\n",
    "y = train_set['Survived']\n",
    "X = train_set[cat + num]"
   ]
  },
  {
   "cell_type": "code",
   "execution_count": 3,
   "metadata": {},
   "outputs": [],
   "source": [
    "# Clean & reset variables\n",
    "# Useful so I can play around with num, cat, X, y, and train_set as much as I want and quickly reset them for further tests\n",
    "\n",
    "def reset_vars():\n",
    "    global cat, num, y, X, train_set\n",
    "    # Will deal with 'Ticket' and 'Cabin' columns later, because these columns will need to be classified. Possibly 'Name' as well\n",
    "    train_set = pd.read_csv('train.csv')\n",
    "    cat = ['Sex', 'Embarked']\n",
    "    num = ['Pclass', 'Age', 'Parch', 'Fare']\n",
    "\n",
    "# Test vars in logistic regression model\n",
    "    y = train_set['Survived']\n",
    "    X = train_set[cat + num]\n",
    "    X = X.fillna({\n",
    "    'Pclass': X['Pclass'].mean(),\n",
    "    'Age': X['Age'].mean(),\n",
    "    'Parch': X['Parch'].mean(),\n",
    "    'Fare': X['Fare'].mean()\n",
    "})\n",
    "\n",
    "reset_vars()"
   ]
  },
  {
   "cell_type": "code",
   "execution_count": 4,
   "metadata": {},
   "outputs": [],
   "source": [
    "# Preprocessor setup\n",
    "# ColumnTransformer object for scaling numerical vars and encoding non-ordinal categorical vars\n",
    "\n",
    "cat_trans = Pipeline(steps=[\n",
    "    ('onehot', OneHotEncoder(handle_unknown='ignore'))\n",
    "])\n",
    "num_trans = Pipeline(steps=[\n",
    "    ('scaler', StandardScaler())\n",
    "])\n",
    "\n",
    "# update preprocessor with current 'cat' and 'num' inputs\n",
    "def update_preprocessor():\n",
    "    global num, cat\n",
    "    preprocessor = ColumnTransformer(\n",
    "        transformers=[\n",
    "            ('num', num_trans, num),\n",
    "            ('cat', cat_trans, cat)\n",
    "        ]\n",
    "    )\n",
    "    return preprocessor\n",
    "\n",
    "preprocessor = update_preprocessor()"
   ]
  },
  {
   "cell_type": "code",
   "execution_count": 6,
   "metadata": {},
   "outputs": [],
   "source": [
    "model = Pipeline(steps=[('preprocessor', preprocessor),\n",
    "                        ('classifier', RandomForestClassifier(\n",
    "                            n_estimators=1000,\n",
    "                            max_depth=150,\n",
    "                            min_samples_split=50,\n",
    "                            min_samples_leaf=25,\n",
    "                            random_state=420\n",
    "                        ))])"
   ]
  },
  {
   "cell_type": "code",
   "execution_count": 7,
   "metadata": {},
   "outputs": [
    {
     "data": {
      "text/html": [
       "<style>#sk-container-id-1 {color: black;}#sk-container-id-1 pre{padding: 0;}#sk-container-id-1 div.sk-toggleable {background-color: white;}#sk-container-id-1 label.sk-toggleable__label {cursor: pointer;display: block;width: 100%;margin-bottom: 0;padding: 0.3em;box-sizing: border-box;text-align: center;}#sk-container-id-1 label.sk-toggleable__label-arrow:before {content: \"▸\";float: left;margin-right: 0.25em;color: #696969;}#sk-container-id-1 label.sk-toggleable__label-arrow:hover:before {color: black;}#sk-container-id-1 div.sk-estimator:hover label.sk-toggleable__label-arrow:before {color: black;}#sk-container-id-1 div.sk-toggleable__content {max-height: 0;max-width: 0;overflow: hidden;text-align: left;background-color: #f0f8ff;}#sk-container-id-1 div.sk-toggleable__content pre {margin: 0.2em;color: black;border-radius: 0.25em;background-color: #f0f8ff;}#sk-container-id-1 input.sk-toggleable__control:checked~div.sk-toggleable__content {max-height: 200px;max-width: 100%;overflow: auto;}#sk-container-id-1 input.sk-toggleable__control:checked~label.sk-toggleable__label-arrow:before {content: \"▾\";}#sk-container-id-1 div.sk-estimator input.sk-toggleable__control:checked~label.sk-toggleable__label {background-color: #d4ebff;}#sk-container-id-1 div.sk-label input.sk-toggleable__control:checked~label.sk-toggleable__label {background-color: #d4ebff;}#sk-container-id-1 input.sk-hidden--visually {border: 0;clip: rect(1px 1px 1px 1px);clip: rect(1px, 1px, 1px, 1px);height: 1px;margin: -1px;overflow: hidden;padding: 0;position: absolute;width: 1px;}#sk-container-id-1 div.sk-estimator {font-family: monospace;background-color: #f0f8ff;border: 1px dotted black;border-radius: 0.25em;box-sizing: border-box;margin-bottom: 0.5em;}#sk-container-id-1 div.sk-estimator:hover {background-color: #d4ebff;}#sk-container-id-1 div.sk-parallel-item::after {content: \"\";width: 100%;border-bottom: 1px solid gray;flex-grow: 1;}#sk-container-id-1 div.sk-label:hover label.sk-toggleable__label {background-color: #d4ebff;}#sk-container-id-1 div.sk-serial::before {content: \"\";position: absolute;border-left: 1px solid gray;box-sizing: border-box;top: 0;bottom: 0;left: 50%;z-index: 0;}#sk-container-id-1 div.sk-serial {display: flex;flex-direction: column;align-items: center;background-color: white;padding-right: 0.2em;padding-left: 0.2em;position: relative;}#sk-container-id-1 div.sk-item {position: relative;z-index: 1;}#sk-container-id-1 div.sk-parallel {display: flex;align-items: stretch;justify-content: center;background-color: white;position: relative;}#sk-container-id-1 div.sk-item::before, #sk-container-id-1 div.sk-parallel-item::before {content: \"\";position: absolute;border-left: 1px solid gray;box-sizing: border-box;top: 0;bottom: 0;left: 50%;z-index: -1;}#sk-container-id-1 div.sk-parallel-item {display: flex;flex-direction: column;z-index: 1;position: relative;background-color: white;}#sk-container-id-1 div.sk-parallel-item:first-child::after {align-self: flex-end;width: 50%;}#sk-container-id-1 div.sk-parallel-item:last-child::after {align-self: flex-start;width: 50%;}#sk-container-id-1 div.sk-parallel-item:only-child::after {width: 0;}#sk-container-id-1 div.sk-dashed-wrapped {border: 1px dashed gray;margin: 0 0.4em 0.5em 0.4em;box-sizing: border-box;padding-bottom: 0.4em;background-color: white;}#sk-container-id-1 div.sk-label label {font-family: monospace;font-weight: bold;display: inline-block;line-height: 1.2em;}#sk-container-id-1 div.sk-label-container {text-align: center;}#sk-container-id-1 div.sk-container {/* jupyter's `normalize.less` sets `[hidden] { display: none; }` but bootstrap.min.css set `[hidden] { display: none !important; }` so we also need the `!important` here to be able to override the default hidden behavior on the sphinx rendered scikit-learn.org. See: https://github.com/scikit-learn/scikit-learn/issues/21755 */display: inline-block !important;position: relative;}#sk-container-id-1 div.sk-text-repr-fallback {display: none;}</style><div id=\"sk-container-id-1\" class=\"sk-top-container\"><div class=\"sk-text-repr-fallback\"><pre>Pipeline(steps=[(&#x27;preprocessor&#x27;,\n",
       "                 ColumnTransformer(transformers=[(&#x27;num&#x27;,\n",
       "                                                  Pipeline(steps=[(&#x27;scaler&#x27;,\n",
       "                                                                   StandardScaler())]),\n",
       "                                                  [&#x27;Pclass&#x27;, &#x27;Age&#x27;, &#x27;Parch&#x27;,\n",
       "                                                   &#x27;Fare&#x27;]),\n",
       "                                                 (&#x27;cat&#x27;,\n",
       "                                                  Pipeline(steps=[(&#x27;onehot&#x27;,\n",
       "                                                                   OneHotEncoder(handle_unknown=&#x27;ignore&#x27;))]),\n",
       "                                                  [&#x27;Sex&#x27;, &#x27;Embarked&#x27;])])),\n",
       "                (&#x27;classifier&#x27;, LogisticRegression())])</pre><b>In a Jupyter environment, please rerun this cell to show the HTML representation or trust the notebook. <br />On GitHub, the HTML representation is unable to render, please try loading this page with nbviewer.org.</b></div><div class=\"sk-container\" hidden><div class=\"sk-item sk-dashed-wrapped\"><div class=\"sk-label-container\"><div class=\"sk-label sk-toggleable\"><input class=\"sk-toggleable__control sk-hidden--visually\" id=\"sk-estimator-id-1\" type=\"checkbox\" ><label for=\"sk-estimator-id-1\" class=\"sk-toggleable__label sk-toggleable__label-arrow\">Pipeline</label><div class=\"sk-toggleable__content\"><pre>Pipeline(steps=[(&#x27;preprocessor&#x27;,\n",
       "                 ColumnTransformer(transformers=[(&#x27;num&#x27;,\n",
       "                                                  Pipeline(steps=[(&#x27;scaler&#x27;,\n",
       "                                                                   StandardScaler())]),\n",
       "                                                  [&#x27;Pclass&#x27;, &#x27;Age&#x27;, &#x27;Parch&#x27;,\n",
       "                                                   &#x27;Fare&#x27;]),\n",
       "                                                 (&#x27;cat&#x27;,\n",
       "                                                  Pipeline(steps=[(&#x27;onehot&#x27;,\n",
       "                                                                   OneHotEncoder(handle_unknown=&#x27;ignore&#x27;))]),\n",
       "                                                  [&#x27;Sex&#x27;, &#x27;Embarked&#x27;])])),\n",
       "                (&#x27;classifier&#x27;, LogisticRegression())])</pre></div></div></div><div class=\"sk-serial\"><div class=\"sk-item sk-dashed-wrapped\"><div class=\"sk-label-container\"><div class=\"sk-label sk-toggleable\"><input class=\"sk-toggleable__control sk-hidden--visually\" id=\"sk-estimator-id-2\" type=\"checkbox\" ><label for=\"sk-estimator-id-2\" class=\"sk-toggleable__label sk-toggleable__label-arrow\">preprocessor: ColumnTransformer</label><div class=\"sk-toggleable__content\"><pre>ColumnTransformer(transformers=[(&#x27;num&#x27;,\n",
       "                                 Pipeline(steps=[(&#x27;scaler&#x27;, StandardScaler())]),\n",
       "                                 [&#x27;Pclass&#x27;, &#x27;Age&#x27;, &#x27;Parch&#x27;, &#x27;Fare&#x27;]),\n",
       "                                (&#x27;cat&#x27;,\n",
       "                                 Pipeline(steps=[(&#x27;onehot&#x27;,\n",
       "                                                  OneHotEncoder(handle_unknown=&#x27;ignore&#x27;))]),\n",
       "                                 [&#x27;Sex&#x27;, &#x27;Embarked&#x27;])])</pre></div></div></div><div class=\"sk-parallel\"><div class=\"sk-parallel-item\"><div class=\"sk-item\"><div class=\"sk-label-container\"><div class=\"sk-label sk-toggleable\"><input class=\"sk-toggleable__control sk-hidden--visually\" id=\"sk-estimator-id-3\" type=\"checkbox\" ><label for=\"sk-estimator-id-3\" class=\"sk-toggleable__label sk-toggleable__label-arrow\">num</label><div class=\"sk-toggleable__content\"><pre>[&#x27;Pclass&#x27;, &#x27;Age&#x27;, &#x27;Parch&#x27;, &#x27;Fare&#x27;]</pre></div></div></div><div class=\"sk-serial\"><div class=\"sk-item\"><div class=\"sk-serial\"><div class=\"sk-item\"><div class=\"sk-estimator sk-toggleable\"><input class=\"sk-toggleable__control sk-hidden--visually\" id=\"sk-estimator-id-4\" type=\"checkbox\" ><label for=\"sk-estimator-id-4\" class=\"sk-toggleable__label sk-toggleable__label-arrow\">StandardScaler</label><div class=\"sk-toggleable__content\"><pre>StandardScaler()</pre></div></div></div></div></div></div></div></div><div class=\"sk-parallel-item\"><div class=\"sk-item\"><div class=\"sk-label-container\"><div class=\"sk-label sk-toggleable\"><input class=\"sk-toggleable__control sk-hidden--visually\" id=\"sk-estimator-id-5\" type=\"checkbox\" ><label for=\"sk-estimator-id-5\" class=\"sk-toggleable__label sk-toggleable__label-arrow\">cat</label><div class=\"sk-toggleable__content\"><pre>[&#x27;Sex&#x27;, &#x27;Embarked&#x27;]</pre></div></div></div><div class=\"sk-serial\"><div class=\"sk-item\"><div class=\"sk-serial\"><div class=\"sk-item\"><div class=\"sk-estimator sk-toggleable\"><input class=\"sk-toggleable__control sk-hidden--visually\" id=\"sk-estimator-id-6\" type=\"checkbox\" ><label for=\"sk-estimator-id-6\" class=\"sk-toggleable__label sk-toggleable__label-arrow\">OneHotEncoder</label><div class=\"sk-toggleable__content\"><pre>OneHotEncoder(handle_unknown=&#x27;ignore&#x27;)</pre></div></div></div></div></div></div></div></div></div></div><div class=\"sk-item\"><div class=\"sk-estimator sk-toggleable\"><input class=\"sk-toggleable__control sk-hidden--visually\" id=\"sk-estimator-id-7\" type=\"checkbox\" ><label for=\"sk-estimator-id-7\" class=\"sk-toggleable__label sk-toggleable__label-arrow\">LogisticRegression</label><div class=\"sk-toggleable__content\"><pre>LogisticRegression()</pre></div></div></div></div></div></div></div>"
      ],
      "text/plain": [
       "Pipeline(steps=[('preprocessor',\n",
       "                 ColumnTransformer(transformers=[('num',\n",
       "                                                  Pipeline(steps=[('scaler',\n",
       "                                                                   StandardScaler())]),\n",
       "                                                  ['Pclass', 'Age', 'Parch',\n",
       "                                                   'Fare']),\n",
       "                                                 ('cat',\n",
       "                                                  Pipeline(steps=[('onehot',\n",
       "                                                                   OneHotEncoder(handle_unknown='ignore'))]),\n",
       "                                                  ['Sex', 'Embarked'])])),\n",
       "                ('classifier', LogisticRegression())])"
      ]
     },
     "execution_count": 7,
     "metadata": {},
     "output_type": "execute_result"
    }
   ],
   "source": [
    "model.fit(X, y)"
   ]
  },
  {
   "cell_type": "code",
   "execution_count": 8,
   "metadata": {},
   "outputs": [
    {
     "data": {
      "text/plain": [
       "\"\\n# test for most accurate arguments for this set\\ndef rf_arg_test(n, md, mss, msl):\\n    model_rf_test = Pipeline(steps=[('preprocessor', preprocessor),\\n                            ('classifier', RandomForestClassifier(\\n                                n_estimators=n,\\n                                max_depth=md,\\n                                min_samples_split=mss,\\n                                min_samples_leaf=msl,\\n                                random_state=42\\n                            ))])\\n\\n    model_rf_test = model_rf_test.fit(X[cat+num], y)\\n    cv = cross_val_score(model_rf_test, X, y, cv=5)\\n    return [cv.mean(), cv.std(), [n, md, mss, msl]]\\n\""
      ]
     },
     "execution_count": 8,
     "metadata": {},
     "output_type": "execute_result"
    }
   ],
   "source": [
    "\"\"\"\n",
    "# test for most accurate arguments for this set\n",
    "def rf_arg_test(n, md, mss, msl):\n",
    "    model_rf_test = Pipeline(steps=[('preprocessor', preprocessor),\n",
    "                            ('classifier', RandomForestClassifier(\n",
    "                                n_estimators=n,\n",
    "                                max_depth=md,\n",
    "                                min_samples_split=mss,\n",
    "                                min_samples_leaf=msl,\n",
    "                                random_state=42\n",
    "                            ))])\n",
    "\n",
    "    model_rf_test = model_rf_test.fit(X[cat+num], y)\n",
    "    cv = cross_val_score(model_rf_test, X, y, cv=5)\n",
    "    return [cv.mean(), cv.std(), [n, md, mss, msl]]\n",
    "\"\"\""
   ]
  },
  {
   "cell_type": "code",
   "execution_count": 9,
   "metadata": {},
   "outputs": [
    {
     "data": {
      "text/plain": [
       "\"\\nrf_tests.sort(key=lambda x: x[0], reverse=True)\\nrf_tests\\nwith open('rf_tests', 'w') as f:\\n    for idx in range(len(rf_tests)):\\n        f.write(str(idx)+'\\n\\t'+str(rf_tests[idx][0])+'\\n\\t'+str(rf_tests[idx][1])+'\\n\\t\\t'+str(rf_tests[idx][2][0])+'\\n\\t\\t'+str(rf_tests[idx][2][1])+'\\n\\t\\t'+str(rf_tests[idx][2][2])+'\\n\\t\\t'+str(rf_tests[idx][2][3])+'\\n')\\n\""
      ]
     },
     "execution_count": 9,
     "metadata": {},
     "output_type": "execute_result"
    }
   ],
   "source": [
    "# set up a basic list of best performers at different values of n, mf, mss, and msl\n",
    "# grabs a filtered top-ish 20 cv means at 5 different values of n\n",
    "# only ran once then saved to file\n",
    "\n",
    "# 2 < optimal mss < 10\n",
    "# 1 < optimal msl < 5\n",
    "\n",
    "# md = 10, mss = 5, msl = 1 achieves the best mean at all values of n\n",
    "# higher values for n tend to be higher accuracy, but n = 100 has the max score (probably fluke)\n",
    "\n",
    "\"\"\"\n",
    "rf_tests = []\n",
    "for n in [100, 250, 500, 750, 1000]:\n",
    "    md_tests = []\n",
    "    print(n)\n",
    "    for md in [5, 10, 20, 35, 50]:\n",
    "        mss_tests = []\n",
    "        for mss in [2, 5, 10, 20]:\n",
    "            msl_tests = []\n",
    "            \n",
    "            for msl in [1, 2, 5, 10]:\n",
    "                msl_tests.append(rf_arg_test(n, md, mss, msl))\n",
    "            msl_tests.sort(key=lambda x: x[0], reverse=True)\n",
    "            mss_tests.extend(msl_tests[0:int((len(msl_tests)/2))+1])\n",
    "            \n",
    "        mss_tests.sort(key=lambda x: x[0], reverse=True)\n",
    "        md_tests.extend(mss_tests[0:int((len(mss_tests)/2))+1])\n",
    "        print('md', md, md_tests)\n",
    "        \n",
    "    md_tests.sort(key=lambda x: x[0], reverse=True)\n",
    "    rf_tests.extend(md_tests[0:int((len(md_tests)/2))])\n",
    "    print('n', n, rf_tests)\n",
    "    \n",
    "rf_tests\n",
    "\"\"\"\n",
    "\n",
    "\n",
    "\"\"\"\n",
    "rf_tests.sort(key=lambda x: x[0], reverse=True)\n",
    "rf_tests\n",
    "with open('rf_tests', 'w') as f:\n",
    "    for idx in range(len(rf_tests)):\n",
    "        f.write(str(idx)+'\\n\\t'+str(rf_tests[idx][0])+'\\n\\t'+str(rf_tests[idx][1])+'\\n\\t\\t'+str(rf_tests[idx][2][0])+'\\n\\t\\t'+str(rf_tests[idx][2][1])+'\\n\\t\\t'+str(rf_tests[idx][2][2])+'\\n\\t\\t'+str(rf_tests[idx][2][3])+'\\n')\n",
    "\"\"\""
   ]
  },
  {
   "cell_type": "code",
   "execution_count": 10,
   "metadata": {},
   "outputs": [
    {
     "ename": "NameError",
     "evalue": "name 'test_set' is not defined",
     "output_type": "error",
     "traceback": [
      "\u001b[1;31m---------------------------------------------------------------------------\u001b[0m",
      "\u001b[1;31mNameError\u001b[0m                                 Traceback (most recent call last)",
      "Cell \u001b[1;32mIn[10], line 1\u001b[0m\n\u001b[1;32m----> 1\u001b[0m test_set \u001b[38;5;241m=\u001b[39m test_set\u001b[38;5;241m.\u001b[39mfillna({\n\u001b[0;32m      2\u001b[0m     \u001b[38;5;124m'\u001b[39m\u001b[38;5;124mPclass\u001b[39m\u001b[38;5;124m'\u001b[39m: \u001b[38;5;241m0\u001b[39m,\n\u001b[0;32m      3\u001b[0m     \u001b[38;5;124m'\u001b[39m\u001b[38;5;124mAge\u001b[39m\u001b[38;5;124m'\u001b[39m: \u001b[38;5;241m0\u001b[39m,\n\u001b[0;32m      4\u001b[0m     \u001b[38;5;124m'\u001b[39m\u001b[38;5;124mParch\u001b[39m\u001b[38;5;124m'\u001b[39m: \u001b[38;5;241m0\u001b[39m,\n\u001b[0;32m      5\u001b[0m     \u001b[38;5;124m'\u001b[39m\u001b[38;5;124mFare\u001b[39m\u001b[38;5;124m'\u001b[39m: \u001b[38;5;241m0\u001b[39m,\n\u001b[0;32m      6\u001b[0m     \u001b[38;5;124m'\u001b[39m\u001b[38;5;124mSex\u001b[39m\u001b[38;5;124m'\u001b[39m: \u001b[38;5;124m'\u001b[39m\u001b[38;5;124munknown\u001b[39m\u001b[38;5;124m'\u001b[39m,\n\u001b[0;32m      7\u001b[0m     \u001b[38;5;124m'\u001b[39m\u001b[38;5;124mEmbarked\u001b[39m\u001b[38;5;124m'\u001b[39m: \u001b[38;5;124m'\u001b[39m\u001b[38;5;124munknown\u001b[39m\u001b[38;5;124m'\u001b[39m\n\u001b[0;32m      8\u001b[0m })\n",
      "\u001b[1;31mNameError\u001b[0m: name 'test_set' is not defined"
     ]
    }
   ],
   "source": [
    "test_set = test_set.fillna({\n",
    "    'Pclass': 0,\n",
    "    'Age': 0,\n",
    "    'Parch': 0,\n",
    "    'Fare': 0,\n",
    "    'Sex': 'unknown',\n",
    "    'Embarked': 'unknown'\n",
    "})"
   ]
  },
  {
   "cell_type": "code",
   "execution_count": null,
   "metadata": {},
   "outputs": [],
   "source": [
    "\"\"\"\n",
    "rf_tests_dict = {'cv_mean':[], 'cv_std':[], 'n':[], 'md':[], 'mss':[], 'msl':[] }\n",
    "for test in rf_tests:\n",
    "    rf_tests_dict['cv_mean'].append(test[0])\n",
    "    rf_tests_dict['cv_std'].append(test[1])\n",
    "    rf_tests_dict['n'].append(test[2][0])\n",
    "    rf_tests_dict['md'].append(test[2][1])\n",
    "    rf_tests_dict['mss'].append(test[2][2])\n",
    "    rf_tests_dict['msl'].append(test[2][3])\n",
    "rf_tests_dict\n",
    "\"\"\""
   ]
  },
  {
   "cell_type": "code",
   "execution_count": null,
   "metadata": {},
   "outputs": [],
   "source": [
    "# rf_tests_df.to_csv('rf_tests.csv')"
   ]
  },
  {
   "cell_type": "code",
   "execution_count": null,
   "metadata": {},
   "outputs": [],
   "source": [
    "\"\"\"\n",
    "rf_tests_df = pd.DataFrame({'cv_mean': rf_tests_dict['cv_mean'], \n",
    "                           'cv_std': rf_tests_dict['cv_std'], \n",
    "                           'n': rf_tests_dict['n'], \n",
    "                           'md': rf_tests_dict['md'], \n",
    "                           'mss': rf_tests_dict['mss'], \n",
    "                           'msl': rf_tests_dict['msl']})\n",
    "rf_tests_df\n",
    "\"\"\""
   ]
  },
  {
   "cell_type": "code",
   "execution_count": null,
   "metadata": {},
   "outputs": [],
   "source": [
    "\"\"\"\n",
    "print(rf_tests_df.groupby('md').size())\n",
    "print(rf_tests_df.groupby('mss').size())\n",
    "print(rf_tests_df.groupby('msl').size())\n",
    "\n",
    "adjusted_rf_df = rf_tests_df[(rf_tests_df['mss'] != 10) & (rf_tests_df['msl'] != 5)] \n",
    "adjusted_rf_df\n",
    "\"\"\""
   ]
  },
  {
   "cell_type": "code",
   "execution_count": null,
   "metadata": {},
   "outputs": [],
   "source": [
    "X_test = test_set[cat + num]\n",
    "predictions = model.predict_proba(X_test)\n",
    "predictions"
   ]
  },
  {
   "cell_type": "code",
   "execution_count": null,
   "metadata": {},
   "outputs": [],
   "source": [
    "pred_df = pd.DataFrame({\n",
    "    'PassengerId':test_set['PassengerId'],\n",
    "    'Survived':predictions\n",
    "})"
   ]
  },
  {
   "cell_type": "code",
   "execution_count": null,
   "metadata": {},
   "outputs": [],
   "source": [
    "pred_df.to_csv('draft_submission_rf.csv', index=False) # .74401"
   ]
  },
  {
   "cell_type": "code",
   "execution_count": null,
   "metadata": {},
   "outputs": [],
   "source": []
  }
 ],
 "metadata": {
  "kernelspec": {
   "display_name": "Python 3",
   "language": "python",
   "name": "python3"
  },
  "language_info": {
   "codemirror_mode": {
    "name": "ipython",
    "version": 3
   },
   "file_extension": ".py",
   "mimetype": "text/x-python",
   "name": "python",
   "nbconvert_exporter": "python",
   "pygments_lexer": "ipython3",
   "version": "3.11.5"
  }
 },
 "nbformat": 4,
 "nbformat_minor": 2
}
