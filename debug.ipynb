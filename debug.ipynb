{
 "cells": [
  {
   "cell_type": "code",
   "execution_count": 1,
   "metadata": {},
   "outputs": [],
   "source": [
    "from sklearn.ensemble import RandomForestClassifier\n",
    "from sklearn.linear_model import LogisticRegression\n",
    "from sklearn.preprocessing import OneHotEncoder, StandardScaler\n",
    "from sklearn.compose import ColumnTransformer\n",
    "from sklearn.pipeline import Pipeline\n",
    "from sklearn.model_selection import train_test_split, cross_val_score\n",
    "from sklearn.metrics import r2_score, accuracy_score, roc_curve, auc\n",
    "import pandas as pd\n",
    "import os\n",
    "import numpy as np\n",
    "from matplotlib import pyplot as plt\n",
    "import random\n",
    "from sklearn.model_selection import GridSearchCV, RandomizedSearchCV\n",
    "from scipy.stats import randint\n",
    "from input_sampling import InputSampler"
   ]
  },
  {
   "cell_type": "code",
   "execution_count": 2,
   "metadata": {},
   "outputs": [],
   "source": [
    "cat = ['Sex', 'Embarked']\n",
    "num = ['Pclass', 'Age', 'Parch', 'Fare', 'SibSp']\n",
    "train_set = pd.read_csv('train.csv')\n",
    "train_set = train_set.fillna({\n",
    "    'Pclass': train_set['Pclass'].mean(),\n",
    "    'Age': train_set['Age'].mean(),\n",
    "    'Parch': train_set['Parch'].mean(),\n",
    "    'Fare': train_set['Fare'].mean(),\n",
    "    'SibSp': train_set['SibSp'].mean()\n",
    "})\n",
    "\n",
    "y = train_set['Survived']\n",
    "X = train_set[cat + num]"
   ]
  },
  {
   "cell_type": "code",
   "execution_count": 3,
   "metadata": {},
   "outputs": [],
   "source": [
    "sampler = InputSampler(num, cat, train_set)"
   ]
  },
  {
   "cell_type": "code",
   "execution_count": 4,
   "metadata": {},
   "outputs": [
    {
     "data": {
      "text/plain": [
       "list"
      ]
     },
     "execution_count": 4,
     "metadata": {},
     "output_type": "execute_result"
    }
   ],
   "source": [
    "type(sampler.var_combinations[3][1])"
   ]
  },
  {
   "cell_type": "code",
   "execution_count": 5,
   "metadata": {},
   "outputs": [
    {
     "data": {
      "text/plain": [
       "[[0.8268156424581006, [['Pclass', 'Age', 'SibSp'], ['Sex']]],\n",
       " [0.8268156424581006, [['Pclass', 'Age', 'Parch'], ['Sex', 'Embarked']]],\n",
       " [0.8268156424581006, [['Pclass', 'Age', 'Fare', 'SibSp'], ['Sex']]],\n",
       " [0.8268156424581006, [['Pclass', 'Age', 'SibSp'], ['Sex', 'Embarked']]],\n",
       " [0.8268156424581006,\n",
       "  [['Pclass', 'Age', 'Fare', 'SibSp'], ['Sex', 'Embarked']]],\n",
       " [0.8212290502793296, [['Pclass', 'Age', 'Parch'], ['Sex']]],\n",
       " [0.8212290502793296, [['Pclass', 'Age', 'Parch', 'Fare'], ['Sex']]],\n",
       " [0.8212290502793296, [['Pclass', 'Age', 'Parch', 'SibSp'], ['Sex']]],\n",
       " [0.8212290502793296, [['Pclass', 'Age', 'Parch', 'Fare', 'SibSp'], ['Sex']]],\n",
       " [0.8156424581005587,\n",
       "  [['Pclass', 'Age', 'Parch', 'Fare'], ['Sex', 'Embarked']]],\n",
       " [0.8156424581005587,\n",
       "  [['Pclass', 'Age', 'Parch', 'SibSp'], ['Sex', 'Embarked']]],\n",
       " [0.8100558659217877, [['Pclass', 'Age'], ['Sex']]],\n",
       " [0.8100558659217877, [['Pclass', 'Age', 'Fare'], ['Sex']]],\n",
       " [0.8100558659217877, [['Pclass', 'Age'], ['Sex', 'Embarked']]],\n",
       " [0.8100558659217877, [['Pclass', 'Age', 'Fare'], ['Sex', 'Embarked']]],\n",
       " [0.7988826815642458, [['Age', 'Fare', 'SibSp'], ['Sex']]],\n",
       " [0.7988826815642458, [['Parch', 'Fare', 'SibSp'], ['Sex', 'Embarked']]],\n",
       " [0.7932960893854749, [['SibSp'], ['Sex']]],\n",
       " [0.7932960893854749, [['Pclass', 'SibSp'], ['Sex']]],\n",
       " [0.7932960893854749, [['Parch', 'SibSp'], ['Sex']]],\n",
       " [0.7932960893854749, [['SibSp'], ['Sex', 'Embarked']]],\n",
       " [0.7932960893854749, [['Pclass', 'Parch', 'SibSp'], ['Sex']]],\n",
       " [0.7932960893854749, [['Age', 'Parch', 'Fare'], ['Sex']]],\n",
       " [0.7932960893854749, [['Parch', 'SibSp'], ['Sex', 'Embarked']]],\n",
       " [0.7932960893854749, [['Age', 'Parch', 'SibSp'], ['Sex', 'Embarked']]],\n",
       " [0.7877094972067039, [['Age'], ['Sex']]],\n",
       " [0.7877094972067039, [['Age', 'Parch'], ['Sex']]],\n",
       " [0.7877094972067039, [['Age', 'SibSp'], ['Sex']]],\n",
       " [0.7877094972067039, [['Parch'], ['Sex', 'Embarked']]],\n",
       " [0.7877094972067039, [['Pclass', 'Parch'], ['Sex', 'Embarked']]],\n",
       " [0.7877094972067039, [['Age', 'Parch'], ['Sex', 'Embarked']]],\n",
       " [0.7877094972067039, [['Age', 'Fare'], ['Sex', 'Embarked']]],\n",
       " [0.7877094972067039, [['Age', 'Parch', 'Fare', 'SibSp'], ['Sex']]],\n",
       " [0.7877094972067039,\n",
       "  [['Age', 'Parch', 'Fare', 'SibSp'], ['Sex', 'Embarked']]],\n",
       " [0.7821229050279329, [[], ['Sex']]],\n",
       " [0.7821229050279329, [['Parch'], ['Sex']]],\n",
       " [0.7821229050279329, [[], ['Sex', 'Embarked']]],\n",
       " [0.7821229050279329, [['Pclass', 'Fare'], ['Sex']]],\n",
       " [0.7821229050279329, [['Pclass', 'Parch', 'Fare'], ['Sex']]],\n",
       " [0.7821229050279329, [['Pclass', 'Fare'], ['Sex', 'Embarked']]],\n",
       " [0.7821229050279329, [['Age', 'Parch', 'SibSp'], ['Sex']]],\n",
       " [0.7821229050279329, [['Age', 'SibSp'], ['Sex', 'Embarked']]],\n",
       " [0.7821229050279329, [['Parch', 'Fare', 'SibSp'], ['Sex']]],\n",
       " [0.7821229050279329, [['Age', 'Parch', 'Fare'], ['Sex', 'Embarked']]],\n",
       " [0.7821229050279329, [['Age', 'Fare', 'SibSp'], ['Sex', 'Embarked']]],\n",
       " [0.776536312849162, [['Age', 'Fare'], []]],\n",
       " [0.776536312849162, [['Age', 'Parch', 'Fare'], []]],\n",
       " [0.776536312849162, [['Age', 'Fare'], ['Sex']]],\n",
       " [0.776536312849162, [['Parch', 'Fare'], ['Sex']]],\n",
       " [0.776536312849162, [['Fare', 'SibSp'], ['Sex']]],\n",
       " [0.776536312849162, [['Fare'], ['Sex', 'Embarked']]],\n",
       " [0.776536312849162, [['Pclass', 'SibSp'], ['Sex', 'Embarked']]],\n",
       " [0.776536312849162, [['Pclass', 'Parch', 'Fare'], ['Sex', 'Embarked']]],\n",
       " [0.776536312849162, [['Pclass', 'Parch', 'SibSp'], ['Sex', 'Embarked']]],\n",
       " [0.770949720670391, [['Fare'], ['Sex']]],\n",
       " [0.770949720670391, [['Pclass', 'Fare', 'SibSp'], ['Sex']]],\n",
       " [0.770949720670391, [['Parch', 'Fare'], ['Sex', 'Embarked']]],\n",
       " [0.770949720670391, [['Pclass', 'Parch', 'Fare', 'SibSp'], ['Sex']]],\n",
       " [0.770949720670391, [['Pclass', 'Fare', 'SibSp'], ['Sex', 'Embarked']]],\n",
       " [0.770949720670391,\n",
       "  [['Pclass', 'Parch', 'Fare', 'SibSp'], ['Sex', 'Embarked']]],\n",
       " [0.7653631284916201, [['Pclass'], ['Sex']]],\n",
       " [0.7653631284916201, [['Pclass', 'Parch'], ['Sex']]],\n",
       " [0.7653631284916201, [['Pclass'], ['Sex', 'Embarked']]],\n",
       " [0.7653631284916201, [['Age'], ['Sex', 'Embarked']]],\n",
       " [0.7653631284916201, [['Fare', 'SibSp'], ['Sex', 'Embarked']]],\n",
       " [0.7430167597765364, [['Pclass', 'Age', 'Fare', 'SibSp'], ['Embarked']]],\n",
       " [0.7318435754189944, [['Pclass', 'Parch'], []]],\n",
       " [0.7318435754189944, [['Fare', 'SibSp'], []]],\n",
       " [0.7318435754189944, [['Pclass', 'Parch', 'SibSp'], []]],\n",
       " [0.7318435754189944, [['Pclass', 'Age', 'Fare', 'SibSp'], []]],\n",
       " [0.7318435754189944, [['Pclass', 'Parch', 'Fare', 'SibSp'], []]],\n",
       " [0.7318435754189944, [['Pclass', 'Age', 'Parch', 'Fare', 'SibSp'], []]],\n",
       " [0.7318435754189944,\n",
       "  [['Pclass', 'Age', 'Parch', 'Fare', 'SibSp'], ['Embarked']]],\n",
       " [0.7262569832402235, [['Pclass', 'Age'], []]],\n",
       " [0.7262569832402235, [['Pclass', 'Age', 'Fare'], []]],\n",
       " [0.7262569832402235, [['Pclass', 'Age'], ['Embarked']]],\n",
       " [0.7262569832402235, [['Parch', 'Fare', 'SibSp'], []]],\n",
       " [0.7262569832402235, [['Pclass', 'Age', 'Fare'], ['Embarked']]],\n",
       " [0.7262569832402235, [['Pclass', 'Parch', 'SibSp'], ['Embarked']]],\n",
       " [0.7262569832402235, [['Age', 'Parch', 'Fare', 'SibSp'], []]],\n",
       " [0.7206703910614525, [['Pclass', 'Age', 'SibSp'], []]],\n",
       " [0.7206703910614525, [['Pclass', 'Parch', 'Fare'], []]],\n",
       " [0.7206703910614525, [['Pclass', 'Age', 'Parch', 'Fare'], []]],\n",
       " [0.7206703910614525, [['Pclass', 'Age', 'Parch', 'SibSp'], []]],\n",
       " [0.7206703910614525, [['Pclass', 'Age', 'Parch'], ['Embarked']]],\n",
       " [0.7206703910614525, [['Pclass', 'Age', 'SibSp'], ['Embarked']]],\n",
       " [0.7206703910614525, [['Pclass', 'Age', 'Parch', 'Fare'], ['Embarked']]],\n",
       " [0.7206703910614525, [['Pclass', 'Age', 'Parch', 'SibSp'], ['Embarked']]],\n",
       " [0.7150837988826816, [['Pclass', 'Age', 'Parch'], []]],\n",
       " [0.7150837988826816, [['Pclass', 'Parch'], ['Embarked']]],\n",
       " [0.7150837988826816, [['Age', 'Parch', 'Fare', 'SibSp'], ['Embarked']]],\n",
       " [0.7094972067039106, [['Pclass', 'Fare'], []]],\n",
       " [0.7094972067039106, [['Parch', 'Fare'], []]],\n",
       " [0.7094972067039106, [['Pclass', 'Fare', 'SibSp'], []]],\n",
       " [0.7094972067039106, [['Age', 'Fare', 'SibSp'], []]],\n",
       " [0.7094972067039106, [['Pclass', 'Parch', 'Fare'], ['Embarked']]],\n",
       " [0.7094972067039106, [['Age', 'Fare', 'SibSp'], ['Embarked']]],\n",
       " [0.7094972067039106, [['Pclass', 'Parch', 'Fare', 'SibSp'], ['Embarked']]],\n",
       " [0.7039106145251397, [['Fare'], []]],\n",
       " [0.7039106145251397, [['Fare', 'SibSp'], ['Embarked']]],\n",
       " [0.7039106145251397, [['Parch', 'Fare', 'SibSp'], ['Embarked']]],\n",
       " [0.6983240223463687, [['Age', 'Fare'], ['Embarked']]],\n",
       " [0.6983240223463687, [['Pclass', 'Fare', 'SibSp'], ['Embarked']]],\n",
       " [0.6983240223463687, [['Age', 'Parch', 'Fare'], ['Embarked']]],\n",
       " [0.6927374301675978, [['Pclass', 'Fare'], ['Embarked']]],\n",
       " [0.6871508379888268, [['Pclass', 'SibSp'], []]],\n",
       " [0.6871508379888268, [['Pclass', 'SibSp'], ['Embarked']]],\n",
       " [0.6815642458100558, [['Age', 'SibSp'], ['Embarked']]],\n",
       " [0.6759776536312849, [['Pclass'], []]],\n",
       " [0.6759776536312849, [['Pclass'], ['Embarked']]],\n",
       " [0.6759776536312849, [['Parch', 'Fare'], ['Embarked']]],\n",
       " [0.6703910614525139, [['Fare'], ['Embarked']]],\n",
       " [0.6703910614525139, [['Parch', 'SibSp'], ['Embarked']]],\n",
       " [0.6536312849162011, [['Age', 'Parch', 'SibSp'], ['Embarked']]],\n",
       " [0.6480446927374302, [['Age'], ['Embarked']]],\n",
       " [0.6480446927374302, [['Parch', 'SibSp'], []]],\n",
       " [0.6480446927374302, [['Age', 'Parch'], ['Embarked']]],\n",
       " [0.6424581005586593, [['Parch'], ['Embarked']]],\n",
       " [0.6312849162011173, [['Age', 'Parch'], []]],\n",
       " [0.6201117318435754, [['Parch'], []]],\n",
       " [0.6201117318435754, [[], ['Embarked']]],\n",
       " [0.6201117318435754, [['SibSp'], ['Embarked']]],\n",
       " [0.6145251396648045, [['Age', 'Parch', 'SibSp'], []]],\n",
       " [0.5921787709497207, [['Age'], []]],\n",
       " [0.4972067039106145, [['Age', 'SibSp'], []]],\n",
       " [0.3743016759776536, [['SibSp'], []]]]"
      ]
     },
     "execution_count": 5,
     "metadata": {},
     "output_type": "execute_result"
    }
   ],
   "source": [
    "sampler.sampleLogR()"
   ]
  },
  {
   "cell_type": "code",
   "execution_count": 6,
   "metadata": {},
   "outputs": [
    {
     "data": {
      "text/plain": [
       "str"
      ]
     },
     "execution_count": 6,
     "metadata": {},
     "output_type": "execute_result"
    }
   ],
   "source": []
  }
 ],
 "metadata": {
  "kernelspec": {
   "display_name": "Python 3",
   "language": "python",
   "name": "python3"
  },
  "language_info": {
   "codemirror_mode": {
    "name": "ipython",
    "version": 3
   },
   "file_extension": ".py",
   "mimetype": "text/x-python",
   "name": "python",
   "nbconvert_exporter": "python",
   "pygments_lexer": "ipython3",
   "version": "3.11.5"
  }
 },
 "nbformat": 4,
 "nbformat_minor": 2
}
